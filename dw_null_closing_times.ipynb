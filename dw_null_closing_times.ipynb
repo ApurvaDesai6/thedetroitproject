{
 "cells": [
  {
   "cell_type": "code",
   "execution_count": 135,
   "metadata": {},
   "outputs": [],
   "source": [
    "import pandas as pd\n",
    "import numpy as np\n",
    "import matplotlib.pyplot as plt\n",
    "import seaborn as sns\n",
    "from datetime import datetime\n",
    "import pytz\n",
    "import statistics"
   ]
  },
  {
   "cell_type": "code",
   "execution_count": 136,
   "metadata": {},
   "outputs": [
    {
     "data": {
      "text/html": [
       "<div>\n",
       "<style scoped>\n",
       "    .dataframe tbody tr th:only-of-type {\n",
       "        vertical-align: middle;\n",
       "    }\n",
       "\n",
       "    .dataframe tbody tr th {\n",
       "        vertical-align: top;\n",
       "    }\n",
       "\n",
       "    .dataframe thead th {\n",
       "        text-align: right;\n",
       "    }\n",
       "</style>\n",
       "<table border=\"1\" class=\"dataframe\">\n",
       "  <thead>\n",
       "    <tr style=\"text-align: right;\">\n",
       "      <th></th>\n",
       "      <th>X</th>\n",
       "      <th>Y</th>\n",
       "      <th>id</th>\n",
       "      <th>status</th>\n",
       "      <th>request_type_title</th>\n",
       "      <th>description</th>\n",
       "      <th>web_url</th>\n",
       "      <th>report_method</th>\n",
       "      <th>priority_code</th>\n",
       "      <th>created_at</th>\n",
       "      <th>acknowledged_at</th>\n",
       "      <th>closed_at</th>\n",
       "      <th>reopened_at</th>\n",
       "      <th>updated_at</th>\n",
       "      <th>days_to_close</th>\n",
       "      <th>canonical_issue_id</th>\n",
       "      <th>address</th>\n",
       "      <th>neighborhood</th>\n",
       "      <th>council_district</th>\n",
       "      <th>oid</th>\n",
       "    </tr>\n",
       "  </thead>\n",
       "  <tbody>\n",
       "    <tr>\n",
       "      <th>0</th>\n",
       "      <td>NaN</td>\n",
       "      <td>NaN</td>\n",
       "      <td>10014644</td>\n",
       "      <td>Open</td>\n",
       "      <td>Abandoned Vehicle</td>\n",
       "      <td>Redacted</td>\n",
       "      <td>https://seeclickfix.com/issues/10014644</td>\n",
       "      <td>direct</td>\n",
       "      <td>2</td>\n",
       "      <td>2021/05/28 04:12:07+00</td>\n",
       "      <td>NaN</td>\n",
       "      <td>NaN</td>\n",
       "      <td>NaN</td>\n",
       "      <td>2021/05/28 04:12:07+00</td>\n",
       "      <td>NaN</td>\n",
       "      <td>NaN</td>\n",
       "      <td>Redacted</td>\n",
       "      <td>NaN</td>\n",
       "      <td>NaN</td>\n",
       "      <td>1</td>\n",
       "    </tr>\n",
       "    <tr>\n",
       "      <th>41</th>\n",
       "      <td>-83.039212</td>\n",
       "      <td>42.386152</td>\n",
       "      <td>10014457</td>\n",
       "      <td>Open</td>\n",
       "      <td>Street Light Out</td>\n",
       "      <td>street lights are dim / the yellow defective k...</td>\n",
       "      <td>https://seeclickfix.com/issues/10014457</td>\n",
       "      <td>direct</td>\n",
       "      <td>2</td>\n",
       "      <td>2021/05/28 03:35:08+00</td>\n",
       "      <td>NaN</td>\n",
       "      <td>NaN</td>\n",
       "      <td>NaN</td>\n",
       "      <td>2021/05/28 03:35:09+00</td>\n",
       "      <td>NaN</td>\n",
       "      <td>NaN</td>\n",
       "      <td>5555 Conant St Detroit, MI 48211, USA</td>\n",
       "      <td>NaN</td>\n",
       "      <td>NaN</td>\n",
       "      <td>42</td>\n",
       "    </tr>\n",
       "    <tr>\n",
       "      <th>82</th>\n",
       "      <td>-83.058072</td>\n",
       "      <td>42.342364</td>\n",
       "      <td>10014199</td>\n",
       "      <td>Open</td>\n",
       "      <td>Potholes</td>\n",
       "      <td>Pothole</td>\n",
       "      <td>https://seeclickfix.com/issues/10014199</td>\n",
       "      <td>direct</td>\n",
       "      <td>2</td>\n",
       "      <td>2021/05/28 02:23:44+00</td>\n",
       "      <td>NaN</td>\n",
       "      <td>NaN</td>\n",
       "      <td>NaN</td>\n",
       "      <td>2021/05/28 02:23:52+00</td>\n",
       "      <td>NaN</td>\n",
       "      <td>NaN</td>\n",
       "      <td>2906 Cass Ave Detroit MI 48201, United States</td>\n",
       "      <td>NaN</td>\n",
       "      <td>NaN</td>\n",
       "      <td>83</td>\n",
       "    </tr>\n",
       "    <tr>\n",
       "      <th>123</th>\n",
       "      <td>-83.204602</td>\n",
       "      <td>42.348446</td>\n",
       "      <td>10014182</td>\n",
       "      <td>Open</td>\n",
       "      <td>Vacant Lot Cutting</td>\n",
       "      <td>I asked needs to be cut is very long</td>\n",
       "      <td>https://seeclickfix.com/issues/10014182</td>\n",
       "      <td>direct</td>\n",
       "      <td>2</td>\n",
       "      <td>2021/05/28 02:13:42+00</td>\n",
       "      <td>NaN</td>\n",
       "      <td>NaN</td>\n",
       "      <td>NaN</td>\n",
       "      <td>2021/05/28 02:14:39+00</td>\n",
       "      <td>NaN</td>\n",
       "      <td>NaN</td>\n",
       "      <td>7700 Mettetal St Detroit, MI, 48228, USA</td>\n",
       "      <td>NaN</td>\n",
       "      <td>NaN</td>\n",
       "      <td>124</td>\n",
       "    </tr>\n",
       "    <tr>\n",
       "      <th>164</th>\n",
       "      <td>-83.260260</td>\n",
       "      <td>42.412897</td>\n",
       "      <td>10014396</td>\n",
       "      <td>Acknowledged</td>\n",
       "      <td>Investigate Running Water Vacant Property</td>\n",
       "      <td>This request was submitted to the Detroit Wate...</td>\n",
       "      <td>https://seeclickfix.com/issues/10014396</td>\n",
       "      <td>direct</td>\n",
       "      <td>2</td>\n",
       "      <td>2021/05/28 02:13:39+00</td>\n",
       "      <td>2021/05/28 03:07:35+00</td>\n",
       "      <td>NaN</td>\n",
       "      <td>NaN</td>\n",
       "      <td>2021/05/28 03:07:35+00</td>\n",
       "      <td>NaN</td>\n",
       "      <td>NaN</td>\n",
       "      <td>22244 Grove St Detroit 48219</td>\n",
       "      <td>NaN</td>\n",
       "      <td>NaN</td>\n",
       "      <td>165</td>\n",
       "    </tr>\n",
       "  </tbody>\n",
       "</table>\n",
       "</div>"
      ],
      "text/plain": [
       "             X          Y        id        status  \\\n",
       "0          NaN        NaN  10014644          Open   \n",
       "41  -83.039212  42.386152  10014457          Open   \n",
       "82  -83.058072  42.342364  10014199          Open   \n",
       "123 -83.204602  42.348446  10014182          Open   \n",
       "164 -83.260260  42.412897  10014396  Acknowledged   \n",
       "\n",
       "                            request_type_title  \\\n",
       "0                            Abandoned Vehicle   \n",
       "41                            Street Light Out   \n",
       "82                                    Potholes   \n",
       "123                         Vacant Lot Cutting   \n",
       "164  Investigate Running Water Vacant Property   \n",
       "\n",
       "                                           description  \\\n",
       "0                                             Redacted   \n",
       "41   street lights are dim / the yellow defective k...   \n",
       "82                                             Pothole   \n",
       "123              I asked needs to be cut is very long    \n",
       "164  This request was submitted to the Detroit Wate...   \n",
       "\n",
       "                                     web_url report_method  priority_code  \\\n",
       "0    https://seeclickfix.com/issues/10014644        direct              2   \n",
       "41   https://seeclickfix.com/issues/10014457        direct              2   \n",
       "82   https://seeclickfix.com/issues/10014199        direct              2   \n",
       "123  https://seeclickfix.com/issues/10014182        direct              2   \n",
       "164  https://seeclickfix.com/issues/10014396        direct              2   \n",
       "\n",
       "                 created_at         acknowledged_at closed_at reopened_at  \\\n",
       "0    2021/05/28 04:12:07+00                     NaN       NaN         NaN   \n",
       "41   2021/05/28 03:35:08+00                     NaN       NaN         NaN   \n",
       "82   2021/05/28 02:23:44+00                     NaN       NaN         NaN   \n",
       "123  2021/05/28 02:13:42+00                     NaN       NaN         NaN   \n",
       "164  2021/05/28 02:13:39+00  2021/05/28 03:07:35+00       NaN         NaN   \n",
       "\n",
       "                 updated_at  days_to_close  canonical_issue_id  \\\n",
       "0    2021/05/28 04:12:07+00            NaN                 NaN   \n",
       "41   2021/05/28 03:35:09+00            NaN                 NaN   \n",
       "82   2021/05/28 02:23:52+00            NaN                 NaN   \n",
       "123  2021/05/28 02:14:39+00            NaN                 NaN   \n",
       "164  2021/05/28 03:07:35+00            NaN                 NaN   \n",
       "\n",
       "                                           address neighborhood  \\\n",
       "0                                         Redacted          NaN   \n",
       "41           5555 Conant St Detroit, MI 48211, USA          NaN   \n",
       "82   2906 Cass Ave Detroit MI 48201, United States          NaN   \n",
       "123       7700 Mettetal St Detroit, MI, 48228, USA          NaN   \n",
       "164                   22244 Grove St Detroit 48219          NaN   \n",
       "\n",
       "     council_district  oid  \n",
       "0                 NaN    1  \n",
       "41                NaN   42  \n",
       "82                NaN   83  \n",
       "123               NaN  124  \n",
       "164               NaN  165  "
      ]
     },
     "execution_count": 136,
     "metadata": {},
     "output_type": "execute_result"
    }
   ],
   "source": [
    "df = pd.read_csv('../Improve_Detroit_Issues.csv', dtype = {'reopened_at':'str', 'neighborhood':'str'})\n",
    "df = df.drop_duplicates(subset = 'id')\n",
    "df.head()"
   ]
  },
  {
   "cell_type": "code",
   "execution_count": 137,
   "metadata": {},
   "outputs": [
    {
     "data": {
      "text/html": [
       "<div>\n",
       "<style scoped>\n",
       "    .dataframe tbody tr th:only-of-type {\n",
       "        vertical-align: middle;\n",
       "    }\n",
       "\n",
       "    .dataframe tbody tr th {\n",
       "        vertical-align: top;\n",
       "    }\n",
       "\n",
       "    .dataframe thead th {\n",
       "        text-align: right;\n",
       "    }\n",
       "</style>\n",
       "<table border=\"1\" class=\"dataframe\">\n",
       "  <thead>\n",
       "    <tr style=\"text-align: right;\">\n",
       "      <th></th>\n",
       "      <th>X</th>\n",
       "      <th>Y</th>\n",
       "      <th>id</th>\n",
       "      <th>status</th>\n",
       "      <th>request_type_title</th>\n",
       "      <th>description</th>\n",
       "      <th>web_url</th>\n",
       "      <th>report_method</th>\n",
       "      <th>priority_code</th>\n",
       "      <th>created_at</th>\n",
       "      <th>acknowledged_at</th>\n",
       "      <th>closed_at</th>\n",
       "      <th>reopened_at</th>\n",
       "      <th>updated_at</th>\n",
       "      <th>days_to_close</th>\n",
       "      <th>canonical_issue_id</th>\n",
       "      <th>address</th>\n",
       "      <th>neighborhood</th>\n",
       "      <th>council_district</th>\n",
       "      <th>oid</th>\n",
       "    </tr>\n",
       "  </thead>\n",
       "  <tbody>\n",
       "    <tr>\n",
       "      <th>633340</th>\n",
       "      <td>-82.949184</td>\n",
       "      <td>42.388343</td>\n",
       "      <td>1196866</td>\n",
       "      <td>Archived</td>\n",
       "      <td>Running Water in a Home or Building</td>\n",
       "      <td>flooding</td>\n",
       "      <td>https://seeclickfix.com/issues/1196866</td>\n",
       "      <td>direct</td>\n",
       "      <td>2</td>\n",
       "      <td>2014/07/21 17:43:46+00</td>\n",
       "      <td>2014/07/21 21:03:33+00</td>\n",
       "      <td>2014/07/22 04:19:26+00</td>\n",
       "      <td>NaN</td>\n",
       "      <td>2014/07/22 04:19:26+00</td>\n",
       "      <td>0.441435</td>\n",
       "      <td>NaN</td>\n",
       "      <td>3786 Ashland Detroit, Michigan</td>\n",
       "      <td>Fox Creek</td>\n",
       "      <td>4.0</td>\n",
       "      <td>633341</td>\n",
       "    </tr>\n",
       "    <tr>\n",
       "      <th>633341</th>\n",
       "      <td>-82.944731</td>\n",
       "      <td>42.398793</td>\n",
       "      <td>1196857</td>\n",
       "      <td>Archived</td>\n",
       "      <td>Running Water in a Home or Building</td>\n",
       "      <td>vacant flooding</td>\n",
       "      <td>https://seeclickfix.com/issues/1196857</td>\n",
       "      <td>direct</td>\n",
       "      <td>2</td>\n",
       "      <td>2014/07/21 17:37:05+00</td>\n",
       "      <td>2014/07/21 21:04:10+00</td>\n",
       "      <td>2014/07/28 14:24:58+00</td>\n",
       "      <td>NaN</td>\n",
       "      <td>2014/07/28 14:24:58+00</td>\n",
       "      <td>6.866586</td>\n",
       "      <td>NaN</td>\n",
       "      <td>4813 Chatsworth Detroit, Michigan</td>\n",
       "      <td>Morningside</td>\n",
       "      <td>4.0</td>\n",
       "      <td>633342</td>\n",
       "    </tr>\n",
       "    <tr>\n",
       "      <th>633342</th>\n",
       "      <td>-82.948944</td>\n",
       "      <td>42.400823</td>\n",
       "      <td>1196832</td>\n",
       "      <td>Archived</td>\n",
       "      <td>Running Water in a Home or Building</td>\n",
       "      <td>Flooding</td>\n",
       "      <td>https://seeclickfix.com/issues/1196832</td>\n",
       "      <td>direct</td>\n",
       "      <td>2</td>\n",
       "      <td>2014/07/21 17:19:27+00</td>\n",
       "      <td>2014/07/21 21:04:53+00</td>\n",
       "      <td>2014/07/22 00:07:14+00</td>\n",
       "      <td>NaN</td>\n",
       "      <td>2014/07/22 00:07:14+00</td>\n",
       "      <td>0.283183</td>\n",
       "      <td>NaN</td>\n",
       "      <td>5107 Somerset Detroit, Michigan</td>\n",
       "      <td>Morningside</td>\n",
       "      <td>4.0</td>\n",
       "      <td>633343</td>\n",
       "    </tr>\n",
       "    <tr>\n",
       "      <th>633343</th>\n",
       "      <td>-83.108376</td>\n",
       "      <td>42.332218</td>\n",
       "      <td>1192634</td>\n",
       "      <td>Archived</td>\n",
       "      <td>Running Water in a Home or Building</td>\n",
       "      <td>Leaking in crawl space</td>\n",
       "      <td>https://seeclickfix.com/issues/1192634</td>\n",
       "      <td>direct</td>\n",
       "      <td>2</td>\n",
       "      <td>2014/07/19 01:31:57+00</td>\n",
       "      <td>2014/07/19 04:44:40+00</td>\n",
       "      <td>2014/07/20 03:34:49+00</td>\n",
       "      <td>NaN</td>\n",
       "      <td>2020/08/11 21:19:38+00</td>\n",
       "      <td>NaN</td>\n",
       "      <td>NaN</td>\n",
       "      <td>4553 Bangor Street Detroit, MI 48210, USA</td>\n",
       "      <td>NaN</td>\n",
       "      <td>NaN</td>\n",
       "      <td>633344</td>\n",
       "    </tr>\n",
       "    <tr>\n",
       "      <th>633345</th>\n",
       "      <td>-83.090376</td>\n",
       "      <td>42.343280</td>\n",
       "      <td>1186066</td>\n",
       "      <td>Archived</td>\n",
       "      <td>Running Water in a Home or Building</td>\n",
       "      <td>From the street, you can hear the water flowin...</td>\n",
       "      <td>https://seeclickfix.com/issues/1186066</td>\n",
       "      <td>direct</td>\n",
       "      <td>2</td>\n",
       "      <td>2014/07/15 21:14:16+00</td>\n",
       "      <td>2014/07/15 21:43:00+00</td>\n",
       "      <td>2014/07/16 11:24:42+00</td>\n",
       "      <td>NaN</td>\n",
       "      <td>2019/12/19 23:32:18+00</td>\n",
       "      <td>NaN</td>\n",
       "      <td>NaN</td>\n",
       "      <td>Buchanan And Humboldt Detroit, Michigan</td>\n",
       "      <td>NaN</td>\n",
       "      <td>NaN</td>\n",
       "      <td>633346</td>\n",
       "    </tr>\n",
       "  </tbody>\n",
       "</table>\n",
       "</div>"
      ],
      "text/plain": [
       "                X          Y       id    status  \\\n",
       "633340 -82.949184  42.388343  1196866  Archived   \n",
       "633341 -82.944731  42.398793  1196857  Archived   \n",
       "633342 -82.948944  42.400823  1196832  Archived   \n",
       "633343 -83.108376  42.332218  1192634  Archived   \n",
       "633345 -83.090376  42.343280  1186066  Archived   \n",
       "\n",
       "                         request_type_title  \\\n",
       "633340  Running Water in a Home or Building   \n",
       "633341  Running Water in a Home or Building   \n",
       "633342  Running Water in a Home or Building   \n",
       "633343  Running Water in a Home or Building   \n",
       "633345  Running Water in a Home or Building   \n",
       "\n",
       "                                              description  \\\n",
       "633340                                           flooding   \n",
       "633341                                    vacant flooding   \n",
       "633342                                           Flooding   \n",
       "633343                             Leaking in crawl space   \n",
       "633345  From the street, you can hear the water flowin...   \n",
       "\n",
       "                                       web_url report_method  priority_code  \\\n",
       "633340  https://seeclickfix.com/issues/1196866        direct              2   \n",
       "633341  https://seeclickfix.com/issues/1196857        direct              2   \n",
       "633342  https://seeclickfix.com/issues/1196832        direct              2   \n",
       "633343  https://seeclickfix.com/issues/1192634        direct              2   \n",
       "633345  https://seeclickfix.com/issues/1186066        direct              2   \n",
       "\n",
       "                    created_at         acknowledged_at  \\\n",
       "633340  2014/07/21 17:43:46+00  2014/07/21 21:03:33+00   \n",
       "633341  2014/07/21 17:37:05+00  2014/07/21 21:04:10+00   \n",
       "633342  2014/07/21 17:19:27+00  2014/07/21 21:04:53+00   \n",
       "633343  2014/07/19 01:31:57+00  2014/07/19 04:44:40+00   \n",
       "633345  2014/07/15 21:14:16+00  2014/07/15 21:43:00+00   \n",
       "\n",
       "                     closed_at reopened_at              updated_at  \\\n",
       "633340  2014/07/22 04:19:26+00         NaN  2014/07/22 04:19:26+00   \n",
       "633341  2014/07/28 14:24:58+00         NaN  2014/07/28 14:24:58+00   \n",
       "633342  2014/07/22 00:07:14+00         NaN  2014/07/22 00:07:14+00   \n",
       "633343  2014/07/20 03:34:49+00         NaN  2020/08/11 21:19:38+00   \n",
       "633345  2014/07/16 11:24:42+00         NaN  2019/12/19 23:32:18+00   \n",
       "\n",
       "        days_to_close  canonical_issue_id  \\\n",
       "633340       0.441435                 NaN   \n",
       "633341       6.866586                 NaN   \n",
       "633342       0.283183                 NaN   \n",
       "633343            NaN                 NaN   \n",
       "633345            NaN                 NaN   \n",
       "\n",
       "                                          address neighborhood  \\\n",
       "633340             3786 Ashland Detroit, Michigan    Fox Creek   \n",
       "633341          4813 Chatsworth Detroit, Michigan  Morningside   \n",
       "633342            5107 Somerset Detroit, Michigan  Morningside   \n",
       "633343  4553 Bangor Street Detroit, MI 48210, USA          NaN   \n",
       "633345    Buchanan And Humboldt Detroit, Michigan          NaN   \n",
       "\n",
       "        council_district     oid  \n",
       "633340               4.0  633341  \n",
       "633341               4.0  633342  \n",
       "633342               4.0  633343  \n",
       "633343               NaN  633344  \n",
       "633345               NaN  633346  "
      ]
     },
     "execution_count": 137,
     "metadata": {},
     "output_type": "execute_result"
    }
   ],
   "source": [
    "closed_at_na = df.loc[df[\"closed_at\"].isna()]\n",
    "valid_closed_at = df.loc[df[\"closed_at\"].notna()]\n",
    "closed_at_na.tail()\n",
    "valid_closed_at.tail()"
   ]
  },
  {
   "cell_type": "code",
   "execution_count": 138,
   "metadata": {},
   "outputs": [
    {
     "name": "stderr",
     "output_type": "stream",
     "text": [
      "/var/folders/07/k5n8ysdj0x7g4y_gv6tpmzsc0000gn/T/ipykernel_84190/3929719857.py:3: SettingWithCopyWarning: \n",
      "A value is trying to be set on a copy of a slice from a DataFrame.\n",
      "Try using .loc[row_indexer,col_indexer] = value instead\n",
      "\n",
      "See the caveats in the documentation: https://pandas.pydata.org/pandas-docs/stable/user_guide/indexing.html#returning-a-view-versus-a-copy\n",
      "  closed_at_na[\"time_to_present\"] = (now-pd.to_datetime(closed_at_na[\"created_at\"])).dt.days\n",
      "/var/folders/07/k5n8ysdj0x7g4y_gv6tpmzsc0000gn/T/ipykernel_84190/3929719857.py:4: SettingWithCopyWarning: \n",
      "A value is trying to be set on a copy of a slice from a DataFrame.\n",
      "Try using .loc[row_indexer,col_indexer] = value instead\n",
      "\n",
      "See the caveats in the documentation: https://pandas.pydata.org/pandas-docs/stable/user_guide/indexing.html#returning-a-view-versus-a-copy\n",
      "  valid_closed_at[\"time_to_present\"] = (now-pd.to_datetime(valid_closed_at[\"created_at\"])).dt.days\n"
     ]
    }
   ],
   "source": [
    "\n",
    "timezone = pytz.timezone(\"America/Detroit\")\n",
    "now = timezone.localize(pd.Timestamp.now())\n",
    "closed_at_na[\"time_to_present\"] = (now-pd.to_datetime(closed_at_na[\"created_at\"])).dt.days\n",
    "valid_closed_at[\"time_to_present\"] = (now-pd.to_datetime(valid_closed_at[\"created_at\"])).dt.days"
   ]
  },
  {
   "cell_type": "code",
   "execution_count": 139,
   "metadata": {},
   "outputs": [
    {
     "data": {
      "text/plain": [
       "array([[<AxesSubplot:title={'center':'time_to_present'}>]], dtype=object)"
      ]
     },
     "execution_count": 139,
     "metadata": {},
     "output_type": "execute_result"
    },
    {
     "data": {
      "image/png": "[encoded data removed]",
      "text/plain": [
       "<Figure size 432x288 with 1 Axes>"
      ]
     },
     "metadata": {
      "needs_background": "light"
     },
     "output_type": "display_data"
    },
    {
     "data": {
      "image/png": "[encoded data removed]",
      "text/plain": [
       "<Figure size 432x288 with 1 Axes>"
      ]
     },
     "metadata": {
      "needs_background": "light"
     },
     "output_type": "display_data"
    }
   ],
   "source": [
    "bins = []\n",
    "for i in range(0, 2510, 10):\n",
    "    bins.append(i)\n",
    "closed_at_na.hist(column='time_to_present', bins=bins)\n",
    "valid_closed_at.hist(column='time_to_present', bins=bins)"
   ]
  },
  {
   "cell_type": "code",
   "execution_count": 140,
   "metadata": {},
   "outputs": [
    {
     "name": "stderr",
     "output_type": "stream",
     "text": [
      "/var/folders/07/k5n8ysdj0x7g4y_gv6tpmzsc0000gn/T/ipykernel_84190/717342352.py:1: SettingWithCopyWarning: \n",
      "A value is trying to be set on a copy of a slice from a DataFrame\n",
      "\n",
      "See the caveats in the documentation: https://pandas.pydata.org/pandas-docs/stable/user_guide/indexing.html#returning-a-view-versus-a-copy\n",
      "  closed_at_na.dropna(subset=['neighborhood','council_district'], inplace=True)\n"
     ]
    },
    {
     "data": {
      "text/plain": [
       "array([[<AxesSubplot:title={'center':'time_to_present'}>]], dtype=object)"
      ]
     },
     "execution_count": 140,
     "metadata": {},
     "output_type": "execute_result"
    },
    {
     "data": {
      "image/png": "[encoded data removed]",
      "text/plain": [
       "<Figure size 432x288 with 1 Axes>"
      ]
     },
     "metadata": {
      "needs_background": "light"
     },
     "output_type": "display_data"
    }
   ],
   "source": [
    "closed_at_na.dropna(subset=['neighborhood','council_district'], inplace=True)\n",
    "closed_at_na.hist(column='time_to_present', bins=bins)"
   ]
  },
  {
   "cell_type": "code",
   "execution_count": 141,
   "metadata": {},
   "outputs": [
    {
     "data": {
      "text/plain": [
       "7.0    1401\n",
       "6.0    1300\n",
       "5.0    1212\n",
       "1.0    1043\n",
       "4.0    1027\n",
       "2.0     989\n",
       "3.0     961\n",
       "Name: council_district, dtype: int64"
      ]
     },
     "execution_count": 141,
     "metadata": {},
     "output_type": "execute_result"
    }
   ],
   "source": [
    "closed_at_na['council_district'].value_counts()"
   ]
  },
  {
   "cell_type": "code",
   "execution_count": 142,
   "metadata": {},
   "outputs": [
    {
     "data": {
      "image/png": "[encoded data removed]",
      "text/plain": [
       "<Figure size 432x288 with 1 Axes>"
      ]
     },
     "metadata": {
      "needs_background": "light"
     },
     "output_type": "display_data"
    },
    {
     "data": {
      "image/png": "[encoded data removed]",
      "text/plain": [
       "<Figure size 432x288 with 1 Axes>"
      ]
     },
     "metadata": {
      "needs_background": "light"
     },
     "output_type": "display_data"
    },
    {
     "data": {
      "image/png": "[encoded data removed]",
      "text/plain": [
       "<Figure size 432x288 with 1 Axes>"
      ]
     },
     "metadata": {
      "needs_background": "light"
     },
     "output_type": "display_data"
    },
    {
     "data": {
      "image/png": "[encoded data removed]",
      "text/plain": [
       "<Figure size 432x288 with 1 Axes>"
      ]
     },
     "metadata": {
      "needs_background": "light"
     },
     "output_type": "display_data"
    },
    {
     "data": {
      "image/png": "[encoded data removed]",
      "text/plain": [
       "<Figure size 432x288 with 1 Axes>"
      ]
     },
     "metadata": {
      "needs_background": "light"
     },
     "output_type": "display_data"
    },
    {
     "data": {
      "image/png": "[encoded data removed]",
      "text/plain": [
       "<Figure size 432x288 with 1 Axes>"
      ]
     },
     "metadata": {
      "needs_background": "light"
     },
     "output_type": "display_data"
    },
    {
     "data": {
      "image/png": "[encoded data removed]",
      "text/plain": [
       "<Figure size 432x288 with 1 Axes>"
      ]
     },
     "metadata": {
      "needs_background": "light"
     },
     "output_type": "display_data"
    }
   ],
   "source": [
    "for i in range(1,8):\n",
    "    closed_at_na.loc[closed_at_na[\"council_district\"]==i].hist(column='time_to_present', bins=bins)\n"
   ]
  },
  {
   "cell_type": "code",
   "execution_count": 143,
   "metadata": {},
   "outputs": [],
   "source": [
    "nbs = df['neighborhood'].unique()\n",
    "nbs_list = []\n",
    "for i in nbs:\n",
    "    nbs_list.append(i)\n",
    "nbs_list.pop(0)\n",
    "\n",
    "rqt = df['request_type_title'].unique()\n",
    "rqt_list = []\n",
    "for i in rqt:\n",
    "    rqt_list.append(i)"
   ]
  },
  {
   "cell_type": "code",
   "execution_count": 144,
   "metadata": {},
   "outputs": [],
   "source": [
    "nb_total = []\n",
    "for i in nbs_list:\n",
    "    nb_total.append(df['neighborhood'].value_counts()[i])\n",
    "# print(nb_total)\n",
    "rqt_total = []\n",
    "for i in rqt_list:\n",
    "    rqt_total.append(df['request_type_title'].value_counts()[i])"
   ]
  },
  {
   "cell_type": "code",
   "execution_count": 150,
   "metadata": {},
   "outputs": [],
   "source": [
    "nb_ctime_na = []\n",
    "for i in nbs_list:\n",
    "    if i in closed_at_na['neighborhood'].unique():\n",
    "        nb_ctime_na.append(closed_at_na['neighborhood'].value_counts()[i])\n",
    "    else:\n",
    "        nb_ctime_na.append(0)\n",
    "# print(nb_ctime_na)\n",
    "rqt_na = []\n",
    "for i in rqt_list:\n",
    "    if i in closed_at_na['request_type_title'].unique():\n",
    "        rqt_na.append(closed_at_na['request_type_title'].value_counts()[i])\n",
    "    else:\n",
    "        rqt_na.append(0)"
   ]
  },
  {
   "cell_type": "code",
   "execution_count": 155,
   "metadata": {},
   "outputs": [
    {
     "name": "stdout",
     "output_type": "stream",
     "text": [
      "stdev =  0.0192\n",
      "mean is =  0.0523\n",
      "median is =  0.0493\n"
     ]
    },
    {
     "data": {
      "image/png": "[encoded data removed]",
      "text/plain": [
       "<Figure size 432x288 with 1 Axes>"
      ]
     },
     "metadata": {
      "needs_background": "light"
     },
     "output_type": "display_data"
    }
   ],
   "source": [
    "nb_bins = []\n",
    "c = 0\n",
    "while c <= 0.15:\n",
    "    nb_bins.append(c)\n",
    "    c += 0.005\n",
    "\n",
    "rqt_bins = []\n",
    "c = 0\n",
    "while c <= 0.5:\n",
    "    rqt_bins.append(c)\n",
    "    c+= 0.005\n",
    "\n",
    "# print(nb_bins)\n",
    "nb_ctime_na_perc = []\n",
    "for i in range(len(nbs_list)):\n",
    "    nb_ctime_na_perc.append(nb_ctime_na[i]/nb_total[i])\n",
    "\n",
    "rqt_na_perc = []\n",
    "for i in range(len(rqt_list)):\n",
    "    rqt_na_perc.append(rqt_na[i]/rqt_total[i])\n",
    "\n",
    "plt.hist(nb_ctime_na_perc,bins=nb_bins)\n",
    "print(\"stdev = \",round(statistics.stdev(nb_ctime_na_perc), 4))\n",
    "print(\"mean is = \", round(statistics.mean(nb_ctime_na_perc), 4))\n",
    "print(\"median is = \", round(statistics.median(nb_ctime_na_perc), 4))\n",
    "\n",
    "\n"
   ]
  },
  {
   "cell_type": "code",
   "execution_count": 156,
   "metadata": {},
   "outputs": [
    {
     "name": "stdout",
     "output_type": "stream",
     "text": [
      "stdev =  0.102\n",
      "mean is =  0.0473\n",
      "median is =  0.0058\n"
     ]
    },
    {
     "data": {
      "image/png": "[encoded data removed]",
      "text/plain": [
       "<Figure size 432x288 with 1 Axes>"
      ]
     },
     "metadata": {
      "needs_background": "light"
     },
     "output_type": "display_data"
    }
   ],
   "source": [
    "plt.hist(rqt_na_perc, bins=nb_bins)\n",
    "print(\"stdev = \",round(statistics.stdev(rqt_na_perc), 4))\n",
    "print(\"mean is = \", round(statistics.mean(rqt_na_perc), 4))\n",
    "print(\"median is = \", round(statistics.median(rqt_na_perc), 4))"
   ]
  },
  {
   "cell_type": "code",
   "execution_count": 161,
   "metadata": {},
   "outputs": [
    {
     "name": "stdout",
     "output_type": "stream",
     "text": [
      "0.38209606986899564 700 Other - Referred to other City Department\n",
      "0.05747126436781609 105 Squatters Issue\n",
      "0.5350140056022409 573 Other - Not within City jurisdiction\n",
      "0.16666666666666666 4 Cemetery Issue\n",
      "0.07539682539682539 19 Street Light / Street Light Pole Major Repair\n",
      "0.3020833333333333 29 Alley Grading - DPW Use Only\n",
      "0.22 22 Other - Not within scope of City services\n",
      "0.1 2 Vacant Service Leak\n",
      "0.1734412184673965 1822 Blocked Catch Basin\n",
      "0.0726757904672015 154 Manhole Cover Issue\n",
      "0.05519604111153407 145 Fire Hydrant Issue\n",
      "0.0815024805102764 345 Water Main Break\n"
     ]
    }
   ],
   "source": [
    "for i in range(len(rqt_list)):\n",
    "    if (rqt_na_perc[i] > 0.05):\n",
    "        print( rqt_na_perc[i], rqt_na[i], rqt_list[i])"
   ]
  }
 ],
 "metadata": {
  "interpreter": {
   "hash": "aee8b7b246df8f9039afb4144a1f6fd8d2ca17a180786b69acc140d282b71a49"
  },
  "kernelspec": {
   "display_name": "Python 3.9.5 64-bit",
   "language": "python",
   "name": "python3"
  },
  "language_info": {
   "codemirror_mode": {
    "name": "ipython",
    "version": 3
   },
   "file_extension": ".py",
   "mimetype": "text/x-python",
   "name": "python",
   "nbconvert_exporter": "python",
   "pygments_lexer": "ipython3",
   "version": "3.9.5"
  },
  "orig_nbformat": 4
 },
 "nbformat": 4,
 "nbformat_minor": 2
}
